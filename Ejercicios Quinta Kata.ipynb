{
 "cells": [
  {
   "cell_type": "markdown",
   "metadata": {},
   "source": [
    "Ejercicios de repaso"
   ]
  },
  {
   "cell_type": "code",
   "execution_count": 3,
   "metadata": {},
   "outputs": [
    {
     "name": "stdout",
     "output_type": "stream",
     "text": [
      "42\n"
     ]
    }
   ],
   "source": [
    "answer = 30 + 12\n",
    "print(answer)"
   ]
  },
  {
   "cell_type": "code",
   "execution_count": 6,
   "metadata": {},
   "outputs": [
    {
     "name": "stdout",
     "output_type": "stream",
     "text": [
      "17\n",
      "22\n"
     ]
    }
   ],
   "source": [
    "seconds =  1042\n",
    "display_minutes = 1042//60\n",
    "display_seconds = 1042 % 60\n",
    "print(display_minutes)\n",
    "print (display_seconds)\n",
    "\n",
    "\n"
   ]
  },
  {
   "cell_type": "code",
   "execution_count": null,
   "metadata": {},
   "outputs": [],
   "source": [
    "result_1 = 1032 + 26 *2\n",
    "result_2 = 1032 + (26*2)\n"
   ]
  },
  {
   "cell_type": "code",
   "execution_count": 9,
   "metadata": {},
   "outputs": [
    {
     "name": "stdout",
     "output_type": "stream",
     "text": [
      "23 -23\n",
      "23\n",
      "23\n",
      "14\n"
     ]
    }
   ],
   "source": [
    "a = 39 - 16\n",
    "b = 16 - 39\n",
    "print(a,b)\n",
    "print(abs(39-16))\n",
    "print(abs(16-39))\n",
    "print(round(14.5))\n",
    "\n",
    "\n"
   ]
  },
  {
   "cell_type": "code",
   "execution_count": 10,
   "metadata": {},
   "outputs": [
    {
     "name": "stdout",
     "output_type": "stream",
     "text": [
      "13\n",
      "12\n"
     ]
    }
   ],
   "source": [
    "from math import ceil, floor\n",
    "\n",
    "round_up = ceil(12.5)\n",
    "print(round_up)\n",
    "\n",
    "round_down = floor(12.5)\n",
    "print(round_down)\n",
    "\n"
   ]
  },
  {
   "cell_type": "markdown",
   "metadata": {},
   "source": [
    "Ejercicio de la Kata."
   ]
  },
  {
   "cell_type": "code",
   "execution_count": 17,
   "metadata": {},
   "outputs": [
    {
     "name": "stdout",
     "output_type": "stream",
     "text": [
      "628949.33 Km\n",
      "390577.32899999997\n"
     ]
    }
   ],
   "source": [
    "distancia_tierra = float(149597.870)\n",
    "distancia_jupiter = float(778547.200)\n",
    "print(abs(distancia_tierra - distancia_jupiter),\"Km\")\n",
    "print(round(abs(distancia_tierra - distancia_jupiter)) * 0.621)\n"
   ]
  },
  {
   "cell_type": "code",
   "execution_count": 27,
   "metadata": {},
   "outputs": [
    {
     "name": "stdout",
     "output_type": "stream",
     "text": [
      "0.0\n",
      "0.0 Millas\n"
     ]
    }
   ],
   "source": [
    "distancia1 = input(\"Distancia del primer planeta\")\n",
    "Distancia2 = input(\"Distancia del segundo planeta\")\n",
    "conversion1 = float(distancia1)\n",
    "conversion2 = float(Distancia2)\n",
    "print(abs(conversion1 - conversion2))\n",
    "print(abs(conversion1 - conversion2) * 0.621, \"Millas\")\n",
    "\n",
    "\n",
    "\n"
   ]
  }
 ],
 "metadata": {
  "interpreter": {
   "hash": "3278b01a658a7c45540e9b17e5af7b9ba89430abce68de0c4dfde4aaf24be969"
  },
  "kernelspec": {
   "display_name": "Python 3.10.2 64-bit",
   "language": "python",
   "name": "python3"
  },
  "language_info": {
   "codemirror_mode": {
    "name": "ipython",
    "version": 3
   },
   "file_extension": ".py",
   "mimetype": "text/x-python",
   "name": "python",
   "nbconvert_exporter": "python",
   "pygments_lexer": "ipython3",
   "version": "3.10.2"
  },
  "orig_nbformat": 4
 },
 "nbformat": 4,
 "nbformat_minor": 2
}
