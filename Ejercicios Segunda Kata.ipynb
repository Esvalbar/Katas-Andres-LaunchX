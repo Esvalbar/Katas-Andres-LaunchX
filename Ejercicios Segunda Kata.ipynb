{
 "cells": [
  {
   "cell_type": "code",
   "execution_count": 39,
   "metadata": {},
   "outputs": [
    {
     "name": "stdout",
     "output_type": "stream",
     "text": [
      "today's date is:2022-02-11\n"
     ]
    }
   ],
   "source": [
    "from datetime import date\n",
    "date.today()\n",
    "print(\"today's date is:\" + str(date.today()))\n",
    "\n",
    "\n",
    "\n",
    "  "
   ]
  },
  {
   "cell_type": "code",
   "execution_count": 40,
   "metadata": {},
   "outputs": [
    {
     "name": "stdout",
     "output_type": "stream",
     "text": [
      "bienvenido al programa de bienvenida\n",
      "saludos: andres\n"
     ]
    }
   ],
   "source": [
    "print(\"bienvenido al programa de bienvenida\")\n",
    "name = input(\"introduzca su nombre\")\n",
    "print(\"saludos: \" + name)\n",
    "\n",
    "\n"
   ]
  },
  {
   "cell_type": "code",
   "execution_count": 41,
   "metadata": {},
   "outputs": [
    {
     "name": "stdout",
     "output_type": "stream",
     "text": [
      "calculadora\n",
      "6\n"
     ]
    }
   ],
   "source": [
    "print(\"calculadora\")\n",
    "firts_number = input(\"introduzca el primer valor:\")\n",
    "second_number = input(\"intorduzca el segundo numero\")\n",
    "print(int(firts_number) + int(second_number))\n",
    "\n",
    "\n",
    "\n",
    "\n"
   ]
  },
  {
   "cell_type": "code",
   "execution_count": 42,
   "metadata": {},
   "outputs": [
    {
     "name": "stdout",
     "output_type": "stream",
     "text": [
      "2022-02-11\n"
     ]
    }
   ],
   "source": [
    "from datetime import date\n",
    "Fecha_barco = date.today()\n",
    "print(Fecha_barco)\n",
    "\n",
    "\n"
   ]
  },
  {
   "cell_type": "code",
   "execution_count": 3,
   "metadata": {},
   "outputs": [
    {
     "name": "stdout",
     "output_type": "stream",
     "text": [
      "12 parsec is 39.13872 ligthyears \n"
     ]
    }
   ],
   "source": [
    "parsec = input (\"enter the parsec amount\")\n",
    "ligthyears = float(3.26156)\n",
    "\n",
    "\n",
    "print(str(parsec) + \" parsec is \" + str(float(ligthyears) * int(parsec)) + \" ligthyears \" )"
   ]
  }
 ],
 "metadata": {
  "interpreter": {
   "hash": "3278b01a658a7c45540e9b17e5af7b9ba89430abce68de0c4dfde4aaf24be969"
  },
  "kernelspec": {
   "display_name": "Python 3.10.2 64-bit",
   "language": "python",
   "name": "python3"
  },
  "language_info": {
   "codemirror_mode": {
    "name": "ipython",
    "version": 3
   },
   "file_extension": ".py",
   "mimetype": "text/x-python",
   "name": "python",
   "nbconvert_exporter": "python",
   "pygments_lexer": "ipython3",
   "version": "3.10.2"
  },
  "orig_nbformat": 4
 },
 "nbformat": 4,
 "nbformat_minor": 2
}
