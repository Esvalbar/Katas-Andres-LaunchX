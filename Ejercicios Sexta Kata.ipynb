{
 "cells": [
  {
   "cell_type": "markdown",
   "metadata": {},
   "source": [
    "Ejercicios de practica Kata 6"
   ]
  },
  {
   "cell_type": "code",
   "execution_count": null,
   "metadata": {},
   "outputs": [],
   "source": [
    "planets = ['Mercury' , 'Venus', 'Earth', 'Mars','Jupiter','Saturn','Uranus','Neptune']\n",
    "print('the first planet is', planets[0])\n",
    "print('the second planet is', planets[1])\n",
    "print('the third planet is', planets[2])\n",
    "planets[3] = 'Red planet'\n",
    "print('mars is also know as', planets[3])\n",
    "number_of_planets = len(planets)\n",
    "print('There are', number_of_planets, 'planets in the solar system')\n",
    "planets.append('pluto')\n",
    "number_of_planets = len(planets)\n",
    "print('there are actually', number_of_planets, 'planets in the solar system')\n",
    "planets.pop()\n",
    "number_of_planets = len(planets)\n",
    "print('no there are definitely', number_of_planets , 'planets in the solar system') \n",
    "print('the las planet is', planets[-1])\n",
    "print('the penultimate planet is', planets [-2] )\n",
    "jupiter_index = planets.index('Jupiter')\n",
    "print('jupiter is the', jupiter_index + 1, 'planet from the sun')\n",
    "gravity_on_earth= 1.0\n",
    "gravity_on_Moon = 0.166\n",
    "gravity_on_planets = [0.378, 0.907, 1, 0.379, 2.36, 0.916, 0.889, 1.12]\n",
    "bus_weight = 12650 # in Kilograms in the earth\n",
    "print('on earth a double-decker bus weight', bus_weight,'Kg')\n",
    "print('on mercury a double decker bus weight', bus_weight * gravity_on_planets[0], 'Kg')\n",
    "print('the lightest a bus would be in the solar system is', bus_weight * min(gravity_on_planets),'kg')\n",
    "print('the haviest a bus would be in the solar system is', bus_weight * max(gravity_on_planets),'kg')\n",
    "planets_before_earth = planets[0:2]\n",
    "print(planets_before_earth)\n",
    "planets_after_earth = planets[3:8]\n",
    "print(planets_after_earth)\n",
    "amalthea_group = ['Metis', 'Adrastea', 'Amalthea', 'Thebe']\n",
    "galilean_moons = ['Io', 'Europa', 'Ganymede', 'Callisto']\n",
    "regular_satelite_moons =amalthea_group + galilean_moons\n",
    "print('the regular satelite moon of Jupiter are', regular_satelite_moons)\n",
    "regular_satelite_moons.sort()\n",
    "print('the regular satelite moon of the jupiter are', regular_satelite_moons)"
   ]
  },
  {
   "cell_type": "markdown",
   "metadata": {},
   "source": [
    "Ejercicios Kata No 6"
   ]
  },
  {
   "cell_type": "code",
   "execution_count": 27,
   "metadata": {},
   "outputs": [
    {
     "name": "stdout",
     "output_type": "stream",
     "text": [
      "en el sistema solar existen 8 planetas en total\n",
      "en el sistema solar hay 9 planetas en total y el ultimo de ellos es pluton\n"
     ]
    }
   ],
   "source": [
    "planets= ['Mercury' , 'Venus', 'Earth', 'Mars','Jupiter','Saturn','Uranus','Neptune']\n",
    "numero_de_planetas = len(planets)\n",
    "print('en el sistema solar existen', numero_de_planetas, 'planetas en total')\n",
    "planets.append('pluton')\n",
    "numero_de_planetas = len(planets)\n",
    "print('en el sistema solar hay', numero_de_planetas, 'planetas en total y el ultimo de ellos es', planets[-1])\n"
   ]
  },
  {
   "cell_type": "code",
   "execution_count": 38,
   "metadata": {},
   "outputs": [
    {
     "name": "stdout",
     "output_type": "stream",
     "text": [
      "los planetas mas sercanos al sol son con respecto a tu busqueda ['Mercury', 'Venus', 'Earth', 'Mars', 'Jupiter', 'Saturn']\n",
      "los planetas mas alejados del son con respecto a tu busquesa son ['Neptune']\n"
     ]
    }
   ],
   "source": [
    "planets = ['Mercury' , 'Venus', 'Earth', 'Mars','Jupiter','Saturn','Uranus','Neptune']\n",
    "inicial_planeta= input('porfavor indica el nombrea del planeta con la primera letra en Mayusculas')\n",
    "search = planets.index(inicial_planeta)\n",
    "print('los planetas mas sercanos al sol son con respecto a tu busqueda', planets[0:search])\n",
    "print('los planetas mas alejados del son con respecto a tu busquesa son', planets[search +1:])\n",
    "\n",
    "\n",
    "\n"
   ]
  }
 ],
 "metadata": {
  "interpreter": {
   "hash": "3278b01a658a7c45540e9b17e5af7b9ba89430abce68de0c4dfde4aaf24be969"
  },
  "kernelspec": {
   "display_name": "Python 3.10.2 64-bit",
   "language": "python",
   "name": "python3"
  },
  "language_info": {
   "name": "python",
   "version": "3.10.2"
  },
  "orig_nbformat": 4
 },
 "nbformat": 4,
 "nbformat_minor": 2
}
