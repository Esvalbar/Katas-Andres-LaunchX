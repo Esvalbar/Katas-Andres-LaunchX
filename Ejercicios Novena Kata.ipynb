{
 "cells": [
  {
   "cell_type": "markdown",
   "metadata": {},
   "source": [
    "Ejercicios Practicos novena Kata.  "
   ]
  },
  {
   "cell_type": "code",
   "execution_count": 7,
   "metadata": {},
   "outputs": [
    {
     "name": "stdout",
     "output_type": "stream",
     "text": [
      "payload,propellant,structure\n",
      "payload,propellant,structure\n"
     ]
    }
   ],
   "source": [
    "def rocket_parts():\n",
    "    print('payload,propellant,structure')\n",
    "\n",
    "rocket_parts()\n",
    "\n",
    "\n",
    "output = rocket_parts()\n",
    "\n",
    "any([True,False,False])\n",
    "any([False,False,False])\n",
    "def distance_from_earth(destination):\n",
    "    if destination == 'Moon':\n",
    "        return '238,855'\n",
    "    else:\n",
    "        return 'unable to compute to that destination'\n",
    "\n"
   ]
  },
  {
   "cell_type": "code",
   "execution_count": 13,
   "metadata": {},
   "outputs": [
    {
     "data": {
      "text/plain": [
       "'unable to compute to that destination'"
      ]
     },
     "execution_count": 13,
     "metadata": {},
     "output_type": "execute_result"
    }
   ],
   "source": [
    "def distance_from_earth(destination):\n",
    "    if destination == 'Moon':\n",
    "        return '238,855'\n",
    "    else:\n",
    "        return 'unable to compute to that destination'\n",
    "distance_from_earth('saturn')\n",
    "\n"
   ]
  },
  {
   "cell_type": "code",
   "execution_count": 17,
   "metadata": {},
   "outputs": [
    {
     "data": {
      "text/plain": [
       "133"
      ]
     },
     "execution_count": 17,
     "metadata": {},
     "output_type": "execute_result"
    }
   ],
   "source": [
    "def days_to_coomplete(distance,speed):\n",
    "    hours = distance/speed\n",
    "    return hours/24\n",
    "days_to_coomplete(238855,75)\n",
    "total_days = days_to_coomplete(238855,75)\n",
    "round(total_days)"
   ]
  },
  {
   "cell_type": "code",
   "execution_count": 25,
   "metadata": {},
   "outputs": [
    {
     "data": {
      "text/plain": [
       "'orbit arrival: Monday 22:31'"
      ]
     },
     "execution_count": 25,
     "metadata": {},
     "output_type": "execute_result"
    }
   ],
   "source": [
    "from datetime import timedelta, datetime\n",
    "def arrival_time(destination, hours=51):\n",
    "    now = datetime.now()\n",
    "    arrival = now + timedelta(hours=hours)\n",
    "    return arrival.strftime(f'{destination} arrival: %A %H:%M')\n",
    "\n",
    "\n",
    "arrival_time('orbit', hours=0.13)\n",
    "\n"
   ]
  },
  {
   "cell_type": "code",
   "execution_count": 30,
   "metadata": {},
   "outputs": [
    {
     "data": {
      "text/plain": [
       "'total time to launch is1.1 hours'"
      ]
     },
     "execution_count": 30,
     "metadata": {},
     "output_type": "execute_result"
    }
   ],
   "source": [
    "def sequence_time(*args):\n",
    "    total_minuts = sum(args)\n",
    "    if total_minuts < 60:\n",
    "        return f'total time to launch is {total_minuts} minutes'\n",
    "    else:\n",
    "        return f'total time to launch is {total_minuts/60} hours'\n",
    "sequence_time(4,14,18)\n",
    "sequence_time(4,14,48)\n",
    "\n"
   ]
  },
  {
   "cell_type": "markdown",
   "metadata": {},
   "source": [
    "Ejercicios Novena Kata"
   ]
  },
  {
   "cell_type": "code",
   "execution_count": 44,
   "metadata": {},
   "outputs": [
    {
     "name": "stdout",
     "output_type": "stream",
     "text": [
      "combustibles_disponibles\n",
      "    combutible_total: 110.0\n",
      "    tanque1: 40L\n",
      "    tanque2: 50L\n",
      "    tanque3: 60L\n",
      "    \n"
     ]
    },
    {
     "data": {
      "text/plain": [
       "15.0"
      ]
     },
     "execution_count": 44,
     "metadata": {},
     "output_type": "execute_result"
    }
   ],
   "source": [
    "def combustibles(tanque1,tanque2,tanque3):\n",
    "    promedio_combustibles = (tanque1 + tanque2 + tanque3 /3)\n",
    "    return f\"\"\"combustibles_disponibles\n",
    "    combutible_total: {promedio_combustibles}\n",
    "    tanque1: {tanque1}L\n",
    "    tanque2: {tanque2}L\n",
    "    tanque3: {tanque3}L\n",
    "    \"\"\"\n",
    "print(combustibles(40,50,60))\n",
    "\n",
    "\n",
    "def promedio(*args):\n",
    "    total = sum(*args)\n",
    "    total_combus = len(*args)\n",
    "    return total / total_combus\n",
    "\n",
    "promedio('el promedio de combustibles es'[15,15,15])\n",
    "\n",
    "\n",
    "\n",
    "\n",
    "\n",
    "\n",
    "\n"
   ]
  },
  {
   "cell_type": "markdown",
   "metadata": {},
   "source": [
    "Segundo Ejercicio"
   ]
  },
  {
   "cell_type": "code",
   "execution_count": 46,
   "metadata": {},
   "outputs": [
    {
     "name": "stdout",
     "output_type": "stream",
     "text": [
      "\n",
      "    Destino: Moon\n",
      "    combustible en motor: 300L\n",
      "    combustible de reserva: 200L\n",
      "    tienpo completo hasta el destino: 112Hrs\n",
      "    \n"
     ]
    }
   ],
   "source": [
    "def estado_del_cohete (tiempo_de_despegue,tiempo_vuelo,Destino,tanque_externo,tanque_interno ):\n",
    "    return f\"\"\"\n",
    "    Destino: {Destino}\n",
    "    combustible en motor: {tanque_interno}L\n",
    "    combustible de reserva: {tanque_externo}L\n",
    "    tienpo completo hasta el destino: {tiempo_de_despegue + tiempo_vuelo}Hrs\n",
    "    \"\"\"\n",
    "print(estado_del_cohete(12,100,'Moon',200,300))\n",
    "\n"
   ]
  }
 ],
 "metadata": {
  "interpreter": {
   "hash": "3278b01a658a7c45540e9b17e5af7b9ba89430abce68de0c4dfde4aaf24be969"
  },
  "kernelspec": {
   "display_name": "Python 3.10.2 64-bit",
   "language": "python",
   "name": "python3"
  },
  "language_info": {
   "codemirror_mode": {
    "name": "ipython",
    "version": 3
   },
   "file_extension": ".py",
   "mimetype": "text/x-python",
   "name": "python",
   "nbconvert_exporter": "python",
   "pygments_lexer": "ipython3",
   "version": "3.10.2"
  },
  "orig_nbformat": 4
 },
 "nbformat": 4,
 "nbformat_minor": 2
}
