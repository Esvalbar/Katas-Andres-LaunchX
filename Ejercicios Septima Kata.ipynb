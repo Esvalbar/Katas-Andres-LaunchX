{
 "cells": [
  {
   "cell_type": "markdown",
   "metadata": {},
   "source": [
    "Ejercicios septima Kata"
   ]
  },
  {
   "cell_type": "code",
   "execution_count": 7,
   "metadata": {},
   "outputs": [],
   "source": [
    "user_input=''\n",
    "while user_input.lower() != 'done':\n",
    "    user_input = input('Enter a new value,, or done when done')\n",
    "    "
   ]
  },
  {
   "cell_type": "code",
   "execution_count": 9,
   "metadata": {},
   "outputs": [
    {
     "name": "stdout",
     "output_type": "stream",
     "text": [
      "[]\n",
      "['Hola']\n",
      "['Hola', 'como']\n",
      "['Hola', 'como', 'estas']\n"
     ]
    }
   ],
   "source": [
    "user_input = ''\n",
    "inputs = []\n",
    "while user_input.lower() != 'done':\n",
    "    if user_input:\n",
    "        inputs.append(user_input)\n",
    "    user_input = input('Enter a new value, or done when done')\n",
    "    print(inputs)\n"
   ]
  },
  {
   "cell_type": "code",
   "execution_count": 12,
   "metadata": {},
   "outputs": [
    {
     "name": "stdout",
     "output_type": "stream",
     "text": [
      "4\n",
      "3\n",
      "2\n",
      "1\n",
      "0\n",
      "Blast off\n"
     ]
    }
   ],
   "source": [
    "from time import sleep\n",
    "countdown = [4,3,2,1,0]\n",
    "for number in countdown:\n",
    "    #Muestra el numero\n",
    "    print(number)\n",
    "    sleep(1)\n",
    "print('Blast off')\n",
    "\n"
   ]
  },
  {
   "cell_type": "markdown",
   "metadata": {},
   "source": [
    "Ejercicios septima Kata"
   ]
  },
  {
   "cell_type": "code",
   "execution_count": 17,
   "metadata": {},
   "outputs": [
    {
     "name": "stdout",
     "output_type": "stream",
     "text": [
      "tierra\n",
      "marte\n",
      "jupiter\n",
      "pluton\n",
      "estos son los planetas que registraste\n"
     ]
    }
   ],
   "source": [
    "new_planet = ''\n",
    "planets = []\n",
    "while new_planet.lower() != 'done':\n",
    "    if new_planet:\n",
    "        planets.append(new_planet)\n",
    "    new_planet = input('por favor escriba el nombre de un planeta y cuando termine escriba done')\n",
    "for planet in planets:\n",
    "    print(planet)\n",
    "print('estos son los planetas que registraste')\n",
    "\n"
   ]
  },
  {
   "cell_type": "code",
   "execution_count": null,
   "metadata": {},
   "outputs": [],
   "source": []
  }
 ],
 "metadata": {
  "interpreter": {
   "hash": "3278b01a658a7c45540e9b17e5af7b9ba89430abce68de0c4dfde4aaf24be969"
  },
  "kernelspec": {
   "display_name": "Python 3.10.2 64-bit",
   "language": "python",
   "name": "python3"
  },
  "language_info": {
   "codemirror_mode": {
    "name": "ipython",
    "version": 3
   },
   "file_extension": ".py",
   "mimetype": "text/x-python",
   "name": "python",
   "nbconvert_exporter": "python",
   "pygments_lexer": "ipython3",
   "version": "3.10.2"
  },
  "orig_nbformat": 4
 },
 "nbformat": 4,
 "nbformat_minor": 2
}
