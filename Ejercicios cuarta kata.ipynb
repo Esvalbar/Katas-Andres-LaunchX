{
 "cells": [
  {
   "cell_type": "markdown",
   "metadata": {},
   "source": [
    "Primer Ejercicio."
   ]
  },
  {
   "cell_type": "code",
   "execution_count": 58,
   "metadata": {},
   "outputs": [],
   "source": [
    "text =  \"\"\"Interesting facts about the Moon. The Moon is Earth's only satellite. There are several interesting facts about the Moon and how it affects life here on Earth. \n",
    "On average, the Moon moves 4cm away from the Earth every year. This yearly drift is not significant enough to cause immediate effects on Earth. The highest daylight temperature of the Moon is 127 C.\"\"\"\n",
    "text.split('.')\n",
    "palabras = [\"average\", \"temperature\", \"distance\"]\n",
    "for claves in text:\n",
    "    for words in palabras:\n",
    "        if words in claves:\n",
    "            claves.lower()\n",
    "            print(claves.replace('C','Celsius'))\n",
    "\n",
    "\n",
    "\n",
    "\n",
    "\n",
    "\n",
    "\n",
    "\n",
    "\n",
    "    \n",
    "\n",
    "\n",
    "\n"
   ]
  },
  {
   "cell_type": "markdown",
   "metadata": {},
   "source": [
    "Segundo ejercicio"
   ]
  },
  {
   "cell_type": "code",
   "execution_count": 56,
   "metadata": {},
   "outputs": [
    {
     "name": "stdout",
     "output_type": "stream",
     "text": [
      "La Tierra Y Su Satelite Natural.\n",
      "\n",
      "Nombre del planeta:Earth\n",
      "\n",
      "gravedad en Moon\n",
      ": 1.6199999999999999m/s2\n"
     ]
    }
   ],
   "source": [
    "name = \"Moon\\n\"\n",
    "gravity = 0.00162\n",
    "planet = \"Earth\\n\"\n",
    "Titulo = 'La Tierra y su satelite natural.\\n'\n",
    "f'{Titulo.title()}'\n",
    "datos = \"\"\"Nombre del planeta:{tierra}\n",
    "gravedad en {aste}: {grave}m/s2\"\"\"\n",
    "Final = f\"\"\"{Titulo.title()}\n",
    "{datos}\"\"\"\n",
    "print(Final.format(tierra = planet, aste = name, grave = gravity * 1000))\n",
    "\n",
    "\n",
    "\n",
    "\n",
    "\n",
    "\n",
    "\n",
    "\n",
    "\n"
   ]
  },
  {
   "cell_type": "markdown",
   "metadata": {},
   "source": [
    "Nuevos datos muestra"
   ]
  },
  {
   "cell_type": "code",
   "execution_count": 57,
   "metadata": {},
   "outputs": [
    {
     "name": "stdout",
     "output_type": "stream",
     "text": [
      "La Tierra Y Su Satelite Natural.\n",
      "\n",
      "Nombre del planeta:Marte\n",
      "gravedad en ganimedes: 1.4300000000000002m/s2\n"
     ]
    }
   ],
   "source": [
    "planet = 'Marte'\n",
    "gravity = 0.00143\n",
    "name = 'ganimedes'\n",
    "print(Final.format(tierra = planet, aste= name, grave = gravity *1000))\n",
    "\n",
    "\n",
    "\n",
    "\n",
    "\n",
    "\n",
    "\n"
   ]
  }
 ],
 "metadata": {
  "interpreter": {
   "hash": "3278b01a658a7c45540e9b17e5af7b9ba89430abce68de0c4dfde4aaf24be969"
  },
  "kernelspec": {
   "display_name": "Python 3.10.2 64-bit",
   "language": "python",
   "name": "python3"
  },
  "language_info": {
   "codemirror_mode": {
    "name": "ipython",
    "version": 3
   },
   "file_extension": ".py",
   "mimetype": "text/x-python",
   "name": "python",
   "nbconvert_exporter": "python",
   "pygments_lexer": "ipython3",
   "version": "3.10.2"
  },
  "orig_nbformat": 4
 },
 "nbformat": 4,
 "nbformat_minor": 2
}
